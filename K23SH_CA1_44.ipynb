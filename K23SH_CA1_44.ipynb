{
 "cells": [
  {
   "cell_type": "code",
   "execution_count": null,
   "id": "4ccc6872-aaf9-4330-a9c5-e0cc412d4cd6",
   "metadata": {},
   "outputs": [],
   "source": [
    "#SET1 QUESTION1 *************************************************************************************************************************************"
   ]
  },
  {
   "cell_type": "code",
   "execution_count": 3,
   "id": "550b1f33-82ea-4550-9066-8ab7b2ce490e",
   "metadata": {},
   "outputs": [
    {
     "name": "stdout",
     "output_type": "stream",
     "text": [
      "         Date  Product_ID     Category  Sales_Amount  Units_Sold\n",
      "0  2024-02-01         101  Electronics        5000.0         2.0\n",
      "1  2024-02-02         102      Fashion           NaN         1.0\n",
      "2  2024-02-03         103    Groceries         120.0         5.0\n",
      "3  2024-02-04         104  Electronics        8000.0         1.0\n",
      "4  2024-02-05         105      Fashion        1500.0         NaN\n"
     ]
    }
   ],
   "source": [
    "import pandas as pd\n",
    "import numpy as np\n",
    "df = pd.read_csv(\"S1Q1.csv\")\n",
    "print(df.head())\n",
    "#displays the first 5 rows of a DataFrame."
   ]
  },
  {
   "cell_type": "code",
   "execution_count": 4,
   "id": "682dc634-f78c-46bc-af81-7010049668ff",
   "metadata": {},
   "outputs": [
    {
     "name": "stdout",
     "output_type": "stream",
     "text": [
      "Date            0\n",
      "Product_ID      0\n",
      "Category        0\n",
      "Sales_Amount    1\n",
      "Units_Sold      1\n",
      "dtype: int64\n"
     ]
    }
   ],
   "source": [
    "print(df.isnull().sum())\n",
    "# this will check how many missing data in each column "
   ]
  },
  {
   "cell_type": "code",
   "execution_count": 10,
   "id": "1bb279f6-883a-4927-a010-662d02806618",
   "metadata": {},
   "outputs": [
    {
     "name": "stdout",
     "output_type": "stream",
     "text": [
      "         Date  Product_ID     Category  Sales_Amount  Units_Sold\n",
      "0  2024-02-01         101  Electronics        5000.0         2.0\n",
      "1  2024-02-02         102      Fashion        3655.0         1.0\n",
      "2  2024-02-03         103    Groceries         120.0         5.0\n",
      "3  2024-02-04         104  Electronics        8000.0         1.0\n",
      "4  2024-02-05         105      Fashion        1500.0         0.0\n"
     ]
    }
   ],
   "source": [
    "df.fillna({'Sales_Amount': 0, 'Units_Sold': 0}, inplace=True)\n",
    "# replacing the missing entries with 0\n",
    "print(df.head())"
   ]
  },
  {
   "cell_type": "code",
   "execution_count": 11,
   "id": "6659adde-63e9-4b03-827d-3979d605390a",
   "metadata": {},
   "outputs": [
    {
     "name": "stdout",
     "output_type": "stream",
     "text": [
      "       Product_ID  Sales_Amount  Units_Sold\n",
      "count    5.000000      5.000000    5.000000\n",
      "mean   103.000000   3655.000000    1.800000\n",
      "std      1.581139   3075.235763    1.923538\n",
      "min    101.000000    120.000000    0.000000\n",
      "25%    102.000000   1500.000000    1.000000\n",
      "50%    103.000000   3655.000000    1.000000\n",
      "75%    104.000000   5000.000000    2.000000\n",
      "max    105.000000   8000.000000    5.000000\n"
     ]
    }
   ],
   "source": [
    "\n",
    "print(df.describe())\n",
    "# this shows summary statistics it doesnt take text data"
   ]
  },
  {
   "cell_type": "code",
   "execution_count": null,
   "id": "0b8c7ed6-d860-48d1-81b3-ff01cdb9d07b",
   "metadata": {},
   "outputs": [],
   "source": [
    "#SET1 QUESTION2 ************************************************************************************************************************************"
   ]
  },
  {
   "cell_type": "code",
   "execution_count": 54,
   "id": "528b3b1d-99ba-4d76-a12a-7d82df807a59",
   "metadata": {},
   "outputs": [
    {
     "name": "stdout",
     "output_type": "stream",
     "text": [
      "          Timestamp  User_ID        Action\n",
      "0  2024-02-01 10:00     1001         Login\n",
      "1  2024-02-01 10:05     1002  View Product\n",
      "2  2024-02-01 10:10     1001   Add to Cart\n",
      "3  2024-02-01 10:15     1003      Purchase\n",
      "4  2024-02-01 10:20     1002        Logout\n"
     ]
    }
   ],
   "source": [
    "import pandas as pd\n",
    "\n",
    "df= pd.read_csv(\"S1Q2.csv\")\n",
    "print(df.head())\n"
   ]
  },
  {
   "cell_type": "code",
   "execution_count": 58,
   "id": "26811b65-0a34-4800-8bef-418fed0ff96d",
   "metadata": {},
   "outputs": [
    {
     "name": "stdout",
     "output_type": "stream",
     "text": [
      "First recorded action: 2024-02-01 10:00:00\n",
      "Last recorded action: 2024-02-01 10:20:00\n"
     ]
    }
   ],
   "source": [
    "#basic operation like find the earliest action and latest action , its is based on the time in the table\n",
    "first_action = df[\"Timestamp\"].min()  \n",
    "last_action = df[\"Timestamp\"].max()   \n",
    "\n",
    "print(\"First recorded action:\", first_action)\n",
    "print(\"Last recorded action:\", last_action)\n"
   ]
  },
  {
   "cell_type": "code",
   "execution_count": 1,
   "id": "084e7b1e-bc82-420a-aa23-db4dadf16530",
   "metadata": {},
   "outputs": [
    {
     "ename": "NameError",
     "evalue": "name 'df' is not defined",
     "output_type": "error",
     "traceback": [
      "\u001b[1;31m---------------------------------------------------------------------------\u001b[0m",
      "\u001b[1;31mNameError\u001b[0m                                 Traceback (most recent call last)",
      "\u001b[1;32m~\\AppData\\Local\\Temp\\ipykernel_16020\\3757909693.py\u001b[0m in \u001b[0;36m<module>\u001b[1;34m\u001b[0m\n\u001b[1;32m----> 1\u001b[1;33m \u001b[0muser_action_counts\u001b[0m \u001b[1;33m=\u001b[0m \u001b[0mdf\u001b[0m\u001b[1;33m.\u001b[0m\u001b[0mgroupby\u001b[0m\u001b[1;33m(\u001b[0m\u001b[1;34m\"User_ID\"\u001b[0m\u001b[1;33m)\u001b[0m\u001b[1;33m(\u001b[0m\u001b[1;34m\"Actions\"\u001b[0m\u001b[1;33m)\u001b[0m\u001b[1;33m.\u001b[0m\u001b[0mcount\u001b[0m\u001b[1;33m(\u001b[0m\u001b[1;33m)\u001b[0m\u001b[1;33m\u001b[0m\u001b[1;33m\u001b[0m\u001b[0m\n\u001b[0m\u001b[0;32m      2\u001b[0m \u001b[0mprint\u001b[0m\u001b[1;33m(\u001b[0m\u001b[0muser_action_counts\u001b[0m\u001b[1;33m)\u001b[0m\u001b[1;33m\u001b[0m\u001b[1;33m\u001b[0m\u001b[0m\n\u001b[0;32m      3\u001b[0m \u001b[1;31m#this counts the number of actions\u001b[0m\u001b[1;33m\u001b[0m\u001b[1;33m\u001b[0m\u001b[1;33m\u001b[0m\u001b[0m\n",
      "\u001b[1;31mNameError\u001b[0m: name 'df' is not defined"
     ]
    }
   ],
   "source": [
    "user_action_counts = df.groupby(\"User_ID\")(\"Actions\").count()\n",
    "print(user_action_counts)\n",
    "#this counts the number of actions "
   ]
  },
  {
   "cell_type": "code",
   "execution_count": 56,
   "id": "ff8b2919-db3d-4d48-9759-639fa47d9412",
   "metadata": {},
   "outputs": [
    {
     "name": "stdout",
     "output_type": "stream",
     "text": [
      "Date\n",
      "2024-02-01    3\n",
      "Name: User_ID, dtype: int64\n"
     ]
    }
   ],
   "source": [
    "df[\"Timestamp\"] = pd.to_datetime(df[\"Timestamp\"])  # Convert to datetime\n",
    "df[\"Date\"] = df[\"Timestamp\"].dt.date  # Extract only the date\n",
    "\n",
    "unique_users_per_day = df.groupby(\"Date\")[\"User_ID\"].nunique()\n",
    "print(unique_users_per_day)\n"
   ]
  },
  {
   "cell_type": "code",
   "execution_count": 57,
   "id": "e608d843-9869-4142-9a9c-b81c6bc1d8c1",
   "metadata": {},
   "outputs": [
    {
     "name": "stdout",
     "output_type": "stream",
     "text": [
      "Most common action: Login\n"
     ]
    }
   ],
   "source": [
    "most_common_action = df[\"Action\"].value_counts().idxmax()\n",
    "print(\"Most common action:\", most_common_action)\n",
    "#this print the task which has happened the most number of times\n"
   ]
  },
  {
   "cell_type": "code",
   "execution_count": 28,
   "id": "e4bdd0e9-b87a-49e1-8a72-07e71930d5c7",
   "metadata": {},
   "outputs": [],
   "source": [
    "#SET1 QUESTION3 ************************************************************************************************************************************"
   ]
  },
  {
   "cell_type": "code",
   "execution_count": 51,
   "id": "405272ff-2981-4f79-a646-e60ee9e92994",
   "metadata": {},
   "outputs": [
    {
     "data": {
      "image/png": "[encoded data removed]",
      "text/plain": [
       "<Figure size 640x480 with 1 Axes>"
      ]
     },
     "metadata": {},
     "output_type": "display_data"
    }
   ],
   "source": [
    "import matplotlib.pyplot as plt\n",
    "df = pd.read_csv(\"S1Q3.csv\")\n",
    "df[\"Date\"] = pd.to_datetime(df[\"Date\"])\n",
    "#Date initially is in string so to make it understandable for jupyter we convert into datetime format , alo help us to do sorting \n",
    "\n",
    "for country in df[\"Country\"].unique():\n",
    "    data = df[df[\"Country\"] == country]\n",
    "    #Yeh line \"df\" DataFrame se sirf uss country ka data filter kar rahi hai jo loop ke andar hai.\n",
    "    plt.plot(data[\"Date\"], data[\"Cases\"])\n",
    "\n",
    "plt.xlabel(\"Date\")\n",
    "plt.ylabel(\"Cases\")\n",
    "plt.title(\"Question 3\")\n",
    "\n",
    "plt.show()\n"
   ]
  },
  {
   "cell_type": "code",
   "execution_count": 41,
   "id": "9cbd1f6c-2e8e-46b8-a6ce-b3a402f2502a",
   "metadata": {},
   "outputs": [
    {
     "name": "stdout",
     "output_type": "stream",
     "text": [
      "Country\n",
      "Brazil     30000\n",
      "India      92000\n",
      "USA       102000\n",
      "Name: Cases, dtype: int64\n"
     ]
    }
   ],
   "source": [
    "total_cases = df.groupby(\"Country\")[\"Cases\"].sum()\n",
    "print(total_cases)\n"
   ]
  },
  {
   "cell_type": "code",
   "execution_count": 42,
   "id": "e903f048-c0d9-45f1-a87b-beeb42b64543",
   "metadata": {},
   "outputs": [
    {
     "data": {
      "text/plain": [
       "Country\n",
       "Brazil    1\n",
       "India     2\n",
       "USA       2\n",
       "Name: Cases, dtype: int64"
      ]
     },
     "execution_count": 42,
     "metadata": {},
     "output_type": "execute_result"
    }
   ],
   "source": [
    "df.groupby(\"Country\")[\"Cases\"].count()\n"
   ]
  },
  {
   "cell_type": "code",
   "execution_count": 53,
   "id": "1bb0abfd-3cc1-4919-9972-4c11414a1538",
   "metadata": {},
   "outputs": [
    {
     "data": {
      "text/plain": [
       "<BarContainer object of 3 artists>"
      ]
     },
     "execution_count": 53,
     "metadata": {},
     "output_type": "execute_result"
    },
    {
     "data": {
      "image/png": "[encoded data removed]",
      "text/plain": [
       "<Figure size 640x480 with 1 Axes>"
      ]
     },
     "metadata": {},
     "output_type": "display_data"
    }
   ],
   "source": [
    "colors = [\"red\", \"blue\", \"green\"] \n",
    "\n",
    "plt.bar(total_cases.index, total_cases,color=colors)  \n"
   ]
  }
 ],
 "metadata": {
  "kernelspec": {
   "display_name": "Python 3",
   "language": "python",
   "name": "python3"
  },
  "language_info": {
   "codemirror_mode": {
    "name": "ipython",
    "version": 3
   },
   "file_extension": ".py",
   "mimetype": "text/x-python",
   "name": "python",
   "nbconvert_exporter": "python",
   "pygments_lexer": "ipython3",
   "version": "3.7.6"
  }
 },
 "nbformat": 4,
 "nbformat_minor": 5
}
